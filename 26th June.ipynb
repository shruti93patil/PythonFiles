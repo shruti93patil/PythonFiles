{
 "cells": [
  {
   "cell_type": "code",
   "execution_count": 1,
   "metadata": {},
   "outputs": [],
   "source": [
    "#Introduction to List Data Type\n",
    "#definition -- It is defined as a ordered collection of items\n",
    "#classification -- It is classified as mutable(i.e you can modify/assign) data type\n",
    "#How to define a list -- []\n"
   ]
  },
  {
   "cell_type": "code",
   "execution_count": 14,
   "metadata": {},
   "outputs": [
    {
     "data": {
      "text/plain": [
       "list"
      ]
     },
     "execution_count": 14,
     "metadata": {},
     "output_type": "execute_result"
    }
   ],
   "source": [
    "students = [\"shruti\", \"Rohini\", \"Ashok\"]\n",
    "type(students)"
   ]
  },
  {
   "cell_type": "code",
   "execution_count": 16,
   "metadata": {},
   "outputs": [
    {
     "name": "stdout",
     "output_type": "stream",
     "text": [
      "shruti\n",
      "Rohini\n",
      "Ashok\n"
     ]
    }
   ],
   "source": [
    "#accessing the individual elements on the output\n",
    "\n",
    "#Introduction to indexing: 0,1,2,3.......\n",
    "\n",
    "print (students[0])\n",
    "print(students[1])\n",
    "print (students[2])"
   ]
  },
  {
   "cell_type": "code",
   "execution_count": 19,
   "metadata": {},
   "outputs": [
    {
     "name": "stdout",
     "output_type": "stream",
     "text": [
      "['shruti', 'Rohini', 'Atharva', 'Kartik', 'Rahul']\n"
     ]
    }
   ],
   "source": [
    "#How to modify/alter/delete the elements with a list data type:\n",
    "\n",
    "my_students = [\"shruti\",\"Rohini\",\"Atharva\",\"Kartik\",\"Rahul\"]   #Index -- [0=shruti, 1=Rohini , 2= Atharva etc]\n",
    "\n",
    "print(my_students)\n",
    "\n"
   ]
  },
  {
   "cell_type": "code",
   "execution_count": 20,
   "metadata": {},
   "outputs": [
    {
     "name": "stdout",
     "output_type": "stream",
     "text": [
      "['shruti', 'nilesh', 'Atharva', 'Kartik', 'Rahul']\n"
     ]
    }
   ],
   "source": [
    "#REquirement -- I want tochange shruti name to nilesh i.e reassignment\n",
    "\n",
    "my_students[1] = 'nilesh'\n",
    "print(my_students)"
   ]
  },
  {
   "cell_type": "code",
   "execution_count": 24,
   "metadata": {},
   "outputs": [
    {
     "name": "stdout",
     "output_type": "stream",
     "text": [
      "['shruti', 'nilesh', 'Atharva', 'Kartik', 'Rahul', 'sushmitha', 'sushmitha', 'Gautam', 'sushmitha', 'Gautam', 'sushmitha']\n",
      "['shruti', 'nilesh', 'Atharva', 'Kartik', 'Rahul', 'sushmitha', 'sushmitha', 'Gautam', 'sushmitha', 'Gautam', 'sushmitha', 'Gautam']\n",
      "['shruti', 'nilesh', 'Yasmin', 'Atharva', 'Kartik', 'Rahul', 'sushmitha', 'sushmitha', 'Gautam', 'sushmitha', 'Gautam', 'sushmitha', 'Gautam']\n"
     ]
    }
   ],
   "source": [
    "#Requirement -- I want to add new element to the current list\n",
    "\n",
    "my_students.append('sushmitha')\n",
    "print(my_students)\n",
    "\n",
    "my_students.append('Gautam')\n",
    "print(my_students)\n",
    "\n",
    "my_students.insert(2,'Yasmin')    #If i want to add in middle or any place of my choice for eg. in 2nd place\n",
    "print(my_students)"
   ]
  },
  {
   "cell_type": "code",
   "execution_count": null,
   "metadata": {},
   "outputs": [],
   "source": [
    "# what is a difference between append and insert \n",
    "append -- to add at the last\n",
    "insert -- to add any place of your choice"
   ]
  },
  {
   "cell_type": "code",
   "execution_count": 28,
   "metadata": {},
   "outputs": [
    {
     "name": "stdout",
     "output_type": "stream",
     "text": [
      "['shruti', 'Rohini', 'Atharva', 'Kartik', 'Rahul']\n",
      "['shruti', 'Rohini', 'Atharva', 'qwerty', 'Kartik', 'Rahul']\n",
      "['shruti', 'Rohini', 'Atharva', 'qwerty', 'Kartik', 'Rahul', 'qwerty1']\n"
     ]
    }
   ],
   "source": [
    "my_students = [\"shruti\",\"Rohini\",\"Atharva\",\"Kartik\",\"Rahul\"]  \n",
    "print(my_students)\n",
    "\n",
    "my_students.insert(3,\"qwerty\")\n",
    "print(my_students)\n",
    "\n",
    "my_students.append(\"qwerty1\")\n",
    "print(my_students)"
   ]
  },
  {
   "cell_type": "code",
   "execution_count": 32,
   "metadata": {},
   "outputs": [
    {
     "name": "stdout",
     "output_type": "stream",
     "text": [
      "['shruti', 'Rohini', 'Atharva', 'Kartik', 'Rahul', 'qwerty1']\n",
      "['shruti', 'Rohini', 'Atharva', 'Rahul', 'qwerty1']\n"
     ]
    }
   ],
   "source": [
    "#How to delete\n",
    "\n",
    "print(my_students)       #If i want to delete qwerty\n",
    "\n",
    "del my_students[3]\n",
    "print(my_students)\n"
   ]
  },
  {
   "cell_type": "code",
   "execution_count": 34,
   "metadata": {},
   "outputs": [
    {
     "name": "stdout",
     "output_type": "stream",
     "text": [
      "qwerty1\n"
     ]
    }
   ],
   "source": [
    "#Pop method -- it means it will not delete things permanently but it will delete last item and create carbon copy\n",
    "\n",
    "\n",
    "#eg.\n",
    "\n",
    "x  = my_students.pop()\n",
    "print(x)"
   ]
  },
  {
   "cell_type": "code",
   "execution_count": null,
   "metadata": {},
   "outputs": [],
   "source": []
  },
  {
   "cell_type": "code",
   "execution_count": null,
   "metadata": {},
   "outputs": [],
   "source": []
  },
  {
   "cell_type": "code",
   "execution_count": null,
   "metadata": {},
   "outputs": [],
   "source": []
  }
 ],
 "metadata": {
  "kernelspec": {
   "display_name": "Python 3",
   "language": "python",
   "name": "python3"
  },
  "language_info": {
   "codemirror_mode": {
    "name": "ipython",
    "version": 3
   },
   "file_extension": ".py",
   "mimetype": "text/x-python",
   "name": "python",
   "nbconvert_exporter": "python",
   "pygments_lexer": "ipython3",
   "version": "3.7.6"
  }
 },
 "nbformat": 4,
 "nbformat_minor": 4
}
