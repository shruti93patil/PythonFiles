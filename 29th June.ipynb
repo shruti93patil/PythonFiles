{
 "cells": [
  {
   "cell_type": "code",
   "execution_count": 9,
   "metadata": {},
   "outputs": [
    {
     "name": "stdout",
     "output_type": "stream",
     "text": [
      "['maruthi', 'honda', 'BMW', 'Audi', 'kia']\n"
     ]
    },
    {
     "data": {
      "text/plain": [
       "list"
      ]
     },
     "execution_count": 9,
     "metadata": {},
     "output_type": "execute_result"
    }
   ],
   "source": [
    "#Lists : []  mutable data type\n",
    "\n",
    "#organizing the list:\n",
    "\n",
    "cars = ['maruthi','honda','BMW','Audi','kia']\n",
    "print(cars)\n",
    "\n",
    "type(cars)                                    #to verify the data type"
   ]
  },
  {
   "cell_type": "code",
   "execution_count": 6,
   "metadata": {},
   "outputs": [],
   "source": [
    "#Requirement -- Organise this list in alphabatical order (A-Z)\n",
    "#there are two methods to do this, 1-temporary method, 2-permanent approach\n",
    "\n",
    "#1 - the changes will be temporaray\n",
    "#2 - the changes will be permanent"
   ]
  },
  {
   "cell_type": "code",
   "execution_count": 11,
   "metadata": {},
   "outputs": [
    {
     "name": "stdout",
     "output_type": "stream",
     "text": [
      "['Audi', 'BMW', 'honda', 'kia', 'maruthi']\n",
      "['Audi', 'BMW', 'honda', 'kia', 'maruthi']\n"
     ]
    }
   ],
   "source": [
    "#using the temporary way:\n",
    "\n",
    "print(sorted(cars))\n",
    "\n",
    "\n",
    "#using permanent way using sort method:\n",
    "\n",
    "cars.sort()\n",
    "print(cars)"
   ]
  },
  {
   "cell_type": "code",
   "execution_count": 13,
   "metadata": {},
   "outputs": [],
   "source": [
    "#sort v/s sorted\n",
    "\n",
    "#sort - no original orderwill be there\n",
    "#sorted - original order list will be there"
   ]
  },
  {
   "cell_type": "code",
   "execution_count": 15,
   "metadata": {},
   "outputs": [
    {
     "name": "stdout",
     "output_type": "stream",
     "text": [
      "['Audi', 'BMW', 'honda', 'kia', 'maruthi']\n",
      "['maruthi', 'kia', 'honda', 'BMW', 'Audi']\n"
     ]
    }
   ],
   "source": [
    "#Requirement -- I want list in reverse order\n",
    "\n",
    "print(cars)\n",
    "\n",
    "cars.reverse()\n",
    "print(cars)\n"
   ]
  },
  {
   "cell_type": "code",
   "execution_count": 16,
   "metadata": {},
   "outputs": [
    {
     "name": "stdout",
     "output_type": "stream",
     "text": [
      "['maruthi', 'kia', 'honda', 'BMW', 'Audi']\n"
     ]
    }
   ],
   "source": [
    "print(cars)   #.reverse is a permanent thing, see the output below"
   ]
  },
  {
   "cell_type": "code",
   "execution_count": 20,
   "metadata": {},
   "outputs": [
    {
     "data": {
      "text/plain": [
       "5"
      ]
     },
     "execution_count": 20,
     "metadata": {},
     "output_type": "execute_result"
    }
   ],
   "source": [
    "#Requirement : How to count the items in the list\n",
    "\n",
    "len(cars)"
   ]
  },
  {
   "cell_type": "code",
   "execution_count": null,
   "metadata": {},
   "outputs": [],
   "source": []
  },
  {
   "cell_type": "code",
   "execution_count": 28,
   "metadata": {},
   "outputs": [],
   "source": [
    "#Introduction to for loops:\n",
    "\n",
    "#eg: \n",
    "\n",
    "my_students = ['kiran', 'tejas','senthil','bushra','sushmitha','yasmeen']\n",
    "\n",
    "\n"
   ]
  },
  {
   "cell_type": "code",
   "execution_count": 47,
   "metadata": {},
   "outputs": [
    {
     "name": "stdout",
     "output_type": "stream",
     "text": [
      "Keep up the goof work, Kiran\n",
      "Keep up the goof work, Tejas\n"
     ]
    }
   ],
   "source": [
    "#req: I want to appreciate all the students\n",
    "\n",
    "print(f\"Keep up the goof work, {my_students[0].title()}\")\n",
    "\n",
    "print(f\"Keep up the goof work, {my_students[1].title()}\")"
   ]
  },
  {
   "cell_type": "code",
   "execution_count": null,
   "metadata": {},
   "outputs": [],
   "source": []
  },
  {
   "cell_type": "code",
   "execution_count": 48,
   "metadata": {},
   "outputs": [
    {
     "ename": "IndentationError",
     "evalue": "unexpected indent (<ipython-input-48-83f839dce2e8>, line 4)",
     "output_type": "error",
     "traceback": [
      "\u001b[1;36m  File \u001b[1;32m\"<ipython-input-48-83f839dce2e8>\"\u001b[1;36m, line \u001b[1;32m4\u001b[0m\n\u001b[1;33m    print(tempvar)\u001b[0m\n\u001b[1;37m    ^\u001b[0m\n\u001b[1;31mIndentationError\u001b[0m\u001b[1;31m:\u001b[0m unexpected indent\n"
     ]
    }
   ],
   "source": [
    "#now using for loop:\n",
    "\n",
    "#general syntax  : for temop vairable in mainvar\n",
    "    print(tempvar)\n",
    "    \n",
    "    "
   ]
  },
  {
   "cell_type": "code",
   "execution_count": 39,
   "metadata": {},
   "outputs": [
    {
     "name": "stdout",
     "output_type": "stream",
     "text": [
      "kiran\n",
      "tejas\n",
      "senthil\n",
      "bushra\n",
      "sushmitha\n",
      "yasmeen\n"
     ]
    }
   ],
   "source": [
    "for x in my_students:\n",
    "    \n",
    " print(x)      #identation i.e spacing is required. meaning --before print there should be some space"
   ]
  },
  {
   "cell_type": "code",
   "execution_count": 45,
   "metadata": {},
   "outputs": [
    {
     "name": "stdout",
     "output_type": "stream",
     "text": [
      "kiran\n",
      "tejas\n",
      "senthil\n",
      "bushra\n",
      "sushmitha\n",
      "yasmeen\n"
     ]
    }
   ],
   "source": [
    "#eg::\n",
    "\n",
    "for batman in my_students:  # x is not mandatory , you can use any word or letter\n",
    "    print(batman)\n",
    "    \n",
    "   "
   ]
  },
  {
   "cell_type": "code",
   "execution_count": null,
   "metadata": {},
   "outputs": [],
   "source": []
  },
  {
   "cell_type": "code",
   "execution_count": null,
   "metadata": {},
   "outputs": [],
   "source": []
  }
 ],
 "metadata": {
  "kernelspec": {
   "display_name": "Python 3",
   "language": "python",
   "name": "python3"
  },
  "language_info": {
   "codemirror_mode": {
    "name": "ipython",
    "version": 3
   },
   "file_extension": ".py",
   "mimetype": "text/x-python",
   "name": "python",
   "nbconvert_exporter": "python",
   "pygments_lexer": "ipython3",
   "version": "3.7.6"
  }
 },
 "nbformat": 4,
 "nbformat_minor": 4
}
