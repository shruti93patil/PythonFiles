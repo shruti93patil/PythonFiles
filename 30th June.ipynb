{
 "cells": [
  {
   "cell_type": "code",
   "execution_count": 1,
   "metadata": {},
   "outputs": [],
   "source": [
    "#Continuation -- for loop\n",
    "\n",
    "#General syntax of a for loop:\n",
    "\n",
    "# for tempvar in mainvar :\n",
    "\n",
    "print(tempvar)"
   ]
  },
  {
   "cell_type": "code",
   "execution_count": 3,
   "metadata": {},
   "outputs": [
    {
     "name": "stdout",
     "output_type": "stream",
     "text": [
      "['suresh', 'ranya', 'yasmin', 'nihar', 'sneha']\n"
     ]
    }
   ],
   "source": [
    "students = ['suresh','ranya','yasmin','nihar','sneha']\n",
    "print(students)"
   ]
  },
  {
   "cell_type": "code",
   "execution_count": 7,
   "metadata": {},
   "outputs": [
    {
     "name": "stdout",
     "output_type": "stream",
     "text": [
      "Suresh\n",
      "Ranya\n",
      "Yasmin\n",
      "Nihar\n",
      "Sneha\n"
     ]
    }
   ],
   "source": [
    "#Requirement: \n",
    "# 1 - Appreciating all of the above students.\n",
    "# 2 - Tell them that'i will be looking forward to recieve their files today'\n",
    "\n",
    "for random in students:\n",
    "    print(random.title())"
   ]
  },
  {
   "cell_type": "code",
   "execution_count": 8,
   "metadata": {},
   "outputs": [
    {
     "name": "stdout",
     "output_type": "stream",
     "text": [
      "Keep up the good work,Suresh\n",
      "I am looking forward to recieve your files today,Suresh\n",
      "Keep up the good work,Ranya\n",
      "I am looking forward to recieve your files today,Ranya\n",
      "Keep up the good work,Yasmin\n",
      "I am looking forward to recieve your files today,Yasmin\n",
      "Keep up the good work,Nihar\n",
      "I am looking forward to recieve your files today,Nihar\n",
      "Keep up the good work,Sneha\n",
      "I am looking forward to recieve your files today,Sneha\n"
     ]
    }
   ],
   "source": [
    "#Enhancing the code:\n",
    "\n",
    "for random in students:\n",
    "    print(f\"Keep up the good work,{random.title()}\")\n",
    "    print(f\"I am looking forward to recieve your files today,{random.title()}\")"
   ]
  },
  {
   "cell_type": "code",
   "execution_count": 10,
   "metadata": {},
   "outputs": [
    {
     "name": "stdout",
     "output_type": "stream",
     "text": [
      "Keep up the good work,Suresh\n",
      "I am looking forward to recieve your files today,Suresh\n",
      "\n",
      "Keep up the good work,Ranya\n",
      "I am looking forward to recieve your files today,Ranya\n",
      "\n",
      "Keep up the good work,Yasmin\n",
      "I am looking forward to recieve your files today,Yasmin\n",
      "\n",
      "Keep up the good work,Nihar\n",
      "I am looking forward to recieve your files today,Nihar\n",
      "\n",
      "Keep up the good work,Sneha\n",
      "I am looking forward to recieve your files today,Sneha\n",
      "\n"
     ]
    }
   ],
   "source": [
    "# If you want to present it in a better way:\n",
    "\n",
    "for random in students:\n",
    "    print(f\"Keep up the good work,{random.title()}\")\n",
    "    print(f\"I am looking forward to recieve your files today,{random.title()}\\n\")    #\\n is used for space and gives clarity."
   ]
  },
  {
   "cell_type": "code",
   "execution_count": 15,
   "metadata": {},
   "outputs": [
    {
     "name": "stdout",
     "output_type": "stream",
     "text": [
      "Keep up the good work,Suresh\n",
      "I am looking forward to recieve your files today,Suresh\n",
      "\n",
      "Keep up the good work,Ranya\n",
      "I am looking forward to recieve your files today,Ranya\n",
      "\n",
      "Keep up the good work,Yasmin\n",
      "I am looking forward to recieve your files today,Yasmin\n",
      "\n",
      "Keep up the good work,Nihar\n",
      "I am looking forward to recieve your files today,Nihar\n",
      "\n",
      "Keep up the good work,Sneha\n",
      "I am looking forward to recieve your files today,Sneha\n",
      "\n",
      "THANK YOU ALL FOR JOINING THE PYTHON SESSION\n"
     ]
    }
   ],
   "source": [
    "#Requirement 3 - Generic msg to all participants -- 'Thank you all for joining python session'\n",
    "\n",
    "\n",
    "for random in students:\n",
    "    print(f\"Keep up the good work,{random.title()}\")\n",
    "    print(f\"I am looking forward to recieve your files today,{random.title()}\\n\")\n",
    "print('Thank you all for joining the python session'.upper())\n",
    "\n"
   ]
  },
  {
   "cell_type": "code",
   "execution_count": null,
   "metadata": {},
   "outputs": [],
   "source": []
  },
  {
   "cell_type": "code",
   "execution_count": 27,
   "metadata": {},
   "outputs": [
    {
     "ename": "SyntaxError",
     "evalue": "invalid syntax (<ipython-input-27-e4193f8f765b>, line 9)",
     "output_type": "error",
     "traceback": [
      "\u001b[1;36m  File \u001b[1;32m\"<ipython-input-27-e4193f8f765b>\"\u001b[1;36m, line \u001b[1;32m9\u001b[0m\n\u001b[1;33m    if x (conditional block):\u001b[0m\n\u001b[1;37m                          ^\u001b[0m\n\u001b[1;31mSyntaxError\u001b[0m\u001b[1;31m:\u001b[0m invalid syntax\n"
     ]
    }
   ],
   "source": [
    "#Introduction to IF/ELSE conditions:\n",
    "\n",
    "#If-else block\n",
    "\n",
    "my_students = ['shruti','rahul','aahana','rohini','manish','dinesh','nilesh']\n",
    "\n",
    "#How to write::\n",
    "\n",
    "if x (conditional block):\n",
    "    print\n",
    "else:\n",
    "    print"
   ]
  },
  {
   "cell_type": "code",
   "execution_count": 28,
   "metadata": {},
   "outputs": [
    {
     "name": "stdout",
     "output_type": "stream",
     "text": [
      "Shruti\n",
      "Rahul\n",
      "Aahana\n",
      "Rohini\n",
      "Manish\n",
      "Dinesh\n",
      "NILESH\n"
     ]
    }
   ],
   "source": [
    "#Requirement - whenever nilesh is coming i want it all in capital letters & for all others except nilesh \n",
    "#i want to print in title\n",
    "\n",
    "for x in my_students:\n",
    "    if x == \"nilesh\":\n",
    "        print(x.upper())\n",
    "    else:\n",
    "        print(x.title())\n"
   ]
  },
  {
   "cell_type": "code",
   "execution_count": 42,
   "metadata": {},
   "outputs": [
    {
     "name": "stdout",
     "output_type": "stream",
     "text": [
      "['rahul', 'aahana', 'rohini', 'manish', 'dinesh']\n",
      "['shruti', 'rahul', 'aahana', 'rohini', 'manish', 'dinesh', 'nilesh']\n",
      "['rohini', 'manish', 'dinesh', 'nilesh']\n",
      "['manish', 'dinesh']\n",
      "['shruti', 'aahana']\n"
     ]
    }
   ],
   "source": [
    "#Introduction to slicing of lists:\n",
    "\n",
    "my_students = ['shruti','rahul','aahana','rohini','manish','dinesh','nilesh']\n",
    "\n",
    "#general syntax of slicing -- mainvar(startvalue:stopvalue:stepcount) This is based on indexing \n",
    "#indexing -- 0,1,2,3.....\n",
    "\n",
    "#Requirement 1 - Include rahul and nilesh in a single group:\n",
    "#remenber - Last value is always exclusive\n",
    "\n",
    "print(my_students[1:6])    #it will exlude the last vale\n",
    "\n",
    "print(my_students[0:7])\n",
    "\n",
    "print(my_students[3:7])\n",
    "\n",
    "print(my_students[4:6])\n",
    "\n",
    "print(my_students[0:4:2])  #third one is stepout-i.e it will skip one step(name) \n",
    "\n",
    "#if you use 1 in third place it will not skip anything. to skip one place start from 2.\n",
    "\n"
   ]
  },
  {
   "cell_type": "code",
   "execution_count": null,
   "metadata": {},
   "outputs": [],
   "source": []
  },
  {
   "cell_type": "code",
   "execution_count": null,
   "metadata": {},
   "outputs": [],
   "source": []
  },
  {
   "cell_type": "code",
   "execution_count": null,
   "metadata": {},
   "outputs": [],
   "source": []
  },
  {
   "cell_type": "code",
   "execution_count": null,
   "metadata": {},
   "outputs": [],
   "source": []
  }
 ],
 "metadata": {
  "kernelspec": {
   "display_name": "Python 3",
   "language": "python",
   "name": "python3"
  },
  "language_info": {
   "codemirror_mode": {
    "name": "ipython",
    "version": 3
   },
   "file_extension": ".py",
   "mimetype": "text/x-python",
   "name": "python",
   "nbconvert_exporter": "python",
   "pygments_lexer": "ipython3",
   "version": "3.7.6"
  }
 },
 "nbformat": 4,
 "nbformat_minor": 4
}
