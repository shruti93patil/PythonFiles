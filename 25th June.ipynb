{
 "cells": [
  {
   "cell_type": "code",
   "execution_count": null,
   "metadata": {},
   "outputs": [],
   "source": [
    "Introduction to string methods    #builtin methods for a str"
   ]
  },
  {
   "cell_type": "code",
   "execution_count": 2,
   "metadata": {},
   "outputs": [
    {
     "data": {
      "text/plain": [
       "str"
      ]
     },
     "execution_count": 2,
     "metadata": {},
     "output_type": "execute_result"
    }
   ],
   "source": [
    "name = \"shruti\"\n",
    "type(name)"
   ]
  },
  {
   "cell_type": "code",
   "execution_count": 7,
   "metadata": {},
   "outputs": [
    {
     "name": "stdout",
     "output_type": "stream",
     "text": [
      "Shruti\n"
     ]
    }
   ],
   "source": [
    "print(name.title())       #paranthesis & title is added for \"s\" in upper case"
   ]
  },
  {
   "cell_type": "code",
   "execution_count": null,
   "metadata": {},
   "outputs": [],
   "source": [
    "******INTRODUCTION TO F STRINGS ******"
   ]
  },
  {
   "cell_type": "code",
   "execution_count": 11,
   "metadata": {},
   "outputs": [
    {
     "name": "stdout",
     "output_type": "stream",
     "text": [
      " shruti patil\n"
     ]
    }
   ],
   "source": [
    "first_name = \" shruti\"\n",
    "last_name = \"patil\"\n",
    "\n",
    "# General syntax of a f strng\n",
    "# f\"{place holders}\"\n",
    "\n",
    "full_name = f\"{first_name} {last_name}\"\n",
    "\n",
    "print(full_name)\n",
    "\n"
   ]
  },
  {
   "cell_type": "code",
   "execution_count": 14,
   "metadata": {},
   "outputs": [
    {
     "name": "stdout",
     "output_type": "stream",
     "text": [
      " Shruti Patil\n",
      " SHRUTI PATIL\n",
      " shruti patil\n"
     ]
    }
   ],
   "source": [
    "print(full_name.title())\n",
    "print(full_name.upper())\n",
    "print(full_name.lower())"
   ]
  },
  {
   "cell_type": "code",
   "execution_count": 24,
   "metadata": {},
   "outputs": [
    {
     "name": "stdout",
     "output_type": "stream",
     "text": [
      "keep up the good work, shruti patil\n",
      "keep up the good work, SHRUTI PATIL\n",
      "keep up the good work, Shruti Patil\n"
     ]
    }
   ],
   "source": [
    "#FURTHER ENHANCEMENT OF THE CODE:\n",
    "#I i have to write this sentence - # keep up the good work\n",
    "    \n",
    "print(f\"keep up the good work,{full_name}\") \n",
    "print(f\"keep up the good work,{full_name.upper()}\")\n",
    "print(f\"keep up the good work,{full_name.title()}\")"
   ]
  },
  {
   "cell_type": "code",
   "execution_count": 37,
   "metadata": {},
   "outputs": [
    {
     "name": "stdout",
     "output_type": "stream",
     "text": [
      "python\n",
      "\tpython\n",
      "\t\n",
      "favourite langugages : \n",
      "\\python\n",
      "c++\n",
      "java\n"
     ]
    }
   ],
   "source": [
    "#ADDING WHITE SPACES :\n",
    "  \n",
    "print(\"python\")\n",
    "\n",
    "# Tab Delimter ---> Tab space (\\t)\n",
    "\n",
    "print(\"\\tpython\")\n",
    "\n",
    "print(\"\\t\")\n",
    "\n",
    "print(\"favourite langugages : \\n\\python\\nc++\\njava\")   # \\n ---> new line\n",
    "    "
   ]
  },
  {
   "cell_type": "code",
   "execution_count": 47,
   "metadata": {},
   "outputs": [
    {
     "name": "stdout",
     "output_type": "stream",
     "text": [
      "  shruti patil  \n",
      "shruti patil  \n",
      "  shruti patil\n",
      "shruti patil\n"
     ]
    }
   ],
   "source": [
    "# To remove space from left/right side\n",
    "\n",
    "name = \"  shruti patil  \"\n",
    "\n",
    "print(name)\n",
    "print(name.lstrip())   #removed space from left\n",
    "print(name.rstrip())   #removed spaced from right\n",
    "\n",
    "print(\"  shruti patil\".lstrip())   #without defining the variable we can do it directly by adding with the string"
   ]
  },
  {
   "cell_type": "code",
   "execution_count": null,
   "metadata": {},
   "outputs": [],
   "source": []
  }
 ],
 "metadata": {
  "kernelspec": {
   "display_name": "Python 3",
   "language": "python",
   "name": "python3"
  },
  "language_info": {
   "codemirror_mode": {
    "name": "ipython",
    "version": 3
   },
   "file_extension": ".py",
   "mimetype": "text/x-python",
   "name": "python",
   "nbconvert_exporter": "python",
   "pygments_lexer": "ipython3",
   "version": "3.7.6"
  }
 },
 "nbformat": 4,
 "nbformat_minor": 4
}
