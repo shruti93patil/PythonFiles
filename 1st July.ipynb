{
 "cells": [
  {
   "cell_type": "code",
   "execution_count": 1,
   "metadata": {},
   "outputs": [
    {
     "name": "stdout",
     "output_type": "stream",
     "text": [
      "['Dinesh', 'Shruti']\n"
     ]
    }
   ],
   "source": [
    "#Introduction to list slicing\n",
    "\n",
    "my_students = ['Rahul','Nilesh','Rohini','Suhana','Dinesh','Shruti']\n",
    "\n",
    "\n",
    "# If you want the last two names:\n",
    "print(my_students[4:6])"
   ]
  },
  {
   "cell_type": "code",
   "execution_count": 16,
   "metadata": {},
   "outputs": [
    {
     "name": "stdout",
     "output_type": "stream",
     "text": [
      "[2, 4, 6, 8, 10, 12, 14, 16, 18, 20, 22, 24, 26, 28]\n",
      "[3, 5, 7, 9, 11, 13, 15, 17, 19, 21, 23, 25, 27, 29]\n"
     ]
    }
   ],
   "source": [
    "#Enchancement of the code:\n",
    "#If you want to get even no from 1-30 by using the concept of list data type:\n",
    "\n",
    "#General syntax of range - range(startvalue,stopvalue,stepcount)\n",
    "\n",
    "eve_num = list(range(2,30,2))\n",
    "print(eve_num)\n",
    "\n",
    "odd_num = list(range(3,30,2))\n",
    "print(odd_num)"
   ]
  },
  {
   "cell_type": "code",
   "execution_count": 19,
   "metadata": {},
   "outputs": [
    {
     "data": {
      "text/plain": [
       "list"
      ]
     },
     "execution_count": 19,
     "metadata": {},
     "output_type": "execute_result"
    }
   ],
   "source": [
    "type(eve_num)\n",
    "type(odd_num)"
   ]
  },
  {
   "cell_type": "code",
   "execution_count": 22,
   "metadata": {},
   "outputs": [
    {
     "name": "stdout",
     "output_type": "stream",
     "text": [
      "['Rahul', 'Nilesh', 'Rohini', 'Suhana', 'Dinesh', 'Shruti', 'suyog']\n",
      "['Rahul', 'Nilesh']\n"
     ]
    }
   ],
   "source": [
    "students = ['Rahul','Nilesh','Rohini','Suhana','Dinesh','Shruti','suyog']\n",
    "print(students)\n",
    "\n",
    "\n",
    "#requirement - I want to gte two people in a list here:\n",
    "\n",
    "print(students[0:2])"
   ]
  },
  {
   "cell_type": "code",
   "execution_count": 27,
   "metadata": {},
   "outputs": [
    {
     "name": "stdout",
     "output_type": "stream",
     "text": [
      "['Rahul', 'Rohini', 'Dinesh', 'suyog']\n",
      "['Rahul', 'Suhana', 'suyog']\n",
      "['Rohini', 'Dinesh', 'suyog']\n"
     ]
    }
   ],
   "source": [
    "#now i want to get alternate names from the above list:\n",
    "\n",
    "print(students[0:7:2])\n",
    "\n",
    "print(students[0:7:3])\n",
    "\n",
    "print(students[2:7:2])"
   ]
  },
  {
   "cell_type": "code",
   "execution_count": null,
   "metadata": {},
   "outputs": [],
   "source": []
  },
  {
   "cell_type": "code",
   "execution_count": 35,
   "metadata": {},
   "outputs": [
    {
     "name": "stdout",
     "output_type": "stream",
     "text": [
      "['Rahul', 'Nilesh', 'Rohini', 'Suhana', 'Dinesh', 'Shruti', 'suyog']\n",
      "suyog\n",
      "Rahul\n",
      "Dinesh\n"
     ]
    }
   ],
   "source": [
    "#Introduction to negative indexing:\n",
    "print(students)\n",
    "\n",
    "# -ve indexing will be starting from -1,-2,-3 & (+ve starts from 0)\n",
    "#-ve indexing - start counting from right side (ulta) ****\n",
    "\n",
    "print(students[-1])\n",
    "print(students[-7])\n",
    "print(students[-3])\n"
   ]
  },
  {
   "cell_type": "code",
   "execution_count": 42,
   "metadata": {},
   "outputs": [
    {
     "name": "stdout",
     "output_type": "stream",
     "text": [
      "['suyog', 'Shruti', 'Dinesh', 'Suhana', 'Rohini', 'Nilesh', 'Rahul']\n",
      "['suyog', 'Suhana', 'Rahul']\n"
     ]
    }
   ],
   "source": [
    "#How do you print above list in a reverse order by using concept of indexing (Important)\n",
    "print(students[::-1])   #only : means it will consider start to \n",
    "\n",
    "print(students[::-3])\n"
   ]
  },
  {
   "cell_type": "code",
   "execution_count": null,
   "metadata": {},
   "outputs": [],
   "source": []
  },
  {
   "cell_type": "code",
   "execution_count": null,
   "metadata": {},
   "outputs": [],
   "source": []
  },
  {
   "cell_type": "code",
   "execution_count": null,
   "metadata": {},
   "outputs": [],
   "source": []
  }
 ],
 "metadata": {
  "kernelspec": {
   "display_name": "Python 3",
   "language": "python",
   "name": "python3"
  },
  "language_info": {
   "codemirror_mode": {
    "name": "ipython",
    "version": 3
   },
   "file_extension": ".py",
   "mimetype": "text/x-python",
   "name": "python",
   "nbconvert_exporter": "python",
   "pygments_lexer": "ipython3",
   "version": "3.7.6"
  }
 },
 "nbformat": 4,
 "nbformat_minor": 4
}
